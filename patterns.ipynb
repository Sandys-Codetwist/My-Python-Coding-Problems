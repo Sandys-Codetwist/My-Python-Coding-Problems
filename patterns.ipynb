{
 "cells": [
  {
   "cell_type": "code",
   "execution_count": 3,
   "id": "5908aa95",
   "metadata": {},
   "outputs": [
    {
     "name": "stdout",
     "output_type": "stream",
     "text": [
      "@ @ @ @ @ \n",
      "@ @ @ @ @ \n",
      "@ @ @ @ @ \n",
      "@ @ @ @ @ \n",
      "@ @ @ @ @ \n"
     ]
    }
   ],
   "source": [
    "def patter(l1):\n",
    "    for i in l1:\n",
    "        for j in l1:\n",
    "            print('@',end=' ')\n",
    "        print()        \n",
    "patter([1,2,3,4,5]) "
   ]
  },
  {
   "cell_type": "code",
   "execution_count": 11,
   "id": "0d81b09b",
   "metadata": {},
   "outputs": [
    {
     "name": "stdout",
     "output_type": "stream",
     "text": [
      "1 1 1 1 1 \n",
      "2 2 2 2 2 \n",
      "3 3 3 3 3 \n",
      "4 4 4 4 4 \n",
      "5 5 5 5 5 \n"
     ]
    }
   ],
   "source": [
    "def rect(x):\n",
    "    for i in x:\n",
    "        for j in x:\n",
    "            print(i,end=' ')\n",
    "        print()\n",
    "rect([1,2,3,4,5])        \n",
    "        \n",
    "            \n"
   ]
  },
  {
   "cell_type": "code",
   "execution_count": 17,
   "id": "b28c09d9",
   "metadata": {},
   "outputs": [
    {
     "name": "stdout",
     "output_type": "stream",
     "text": [
      "@ \n",
      "@ @ \n",
      "@ @ @ \n",
      "@ @ @ @ \n",
      "@ @ @ @ @ \n"
     ]
    }
   ],
   "source": [
    "def tria(x):\n",
    "    for i in x:\n",
    "        for j in range(i):\n",
    "            print('@',end=' ')\n",
    "        print()    \n",
    "tria([1,2,3,4,5])        "
   ]
  },
  {
   "cell_type": "code",
   "execution_count": 5,
   "id": "d9dd9345",
   "metadata": {},
   "outputs": [
    {
     "name": "stdout",
     "output_type": "stream",
     "text": [
      "\n",
      "\n",
      "2 \n",
      "\n",
      "3 \n",
      "3 3 \n",
      "\n",
      "4 \n",
      "4 4 \n",
      "4 4 4 \n",
      "\n",
      "5 \n",
      "5 5 \n",
      "5 5 5 \n",
      "5 5 5 5 \n"
     ]
    }
   ],
   "source": [
    "def tria(x):\n",
    "    for i in x:\n",
    "        for j in range(i):\n",
    "            for h in range(j):\n",
    "                print(i,end=' ')\n",
    "            print()    \n",
    "tria([1,2,3,4,5])        "
   ]
  },
  {
   "cell_type": "code",
   "execution_count": 21,
   "id": "be74cd76",
   "metadata": {},
   "outputs": [
    {
     "name": "stdout",
     "output_type": "stream",
     "text": [
      "1 \n",
      "2 2 \n",
      "3 3 3 \n",
      "4 4 4 4 \n",
      "5 5 5 5 5 \n"
     ]
    }
   ],
   "source": [
    "def tria(x):\n",
    "    for i in x:\n",
    "        for j in range(i):\n",
    "            print(i,end=' ')\n",
    "        print()    \n",
    "tria([1,2,3,4,5])        "
   ]
  },
  {
   "cell_type": "code",
   "execution_count": 3,
   "id": "4f0e568d",
   "metadata": {},
   "outputs": [
    {
     "name": "stdout",
     "output_type": "stream",
     "text": [
      "1 \n",
      "0 1 \n",
      "1 0 1 \n",
      "0 1 0 1 \n",
      "1 0 1 0 1 \n"
     ]
    }
   ],
   "source": [
    "def tria(x):\n",
    "    for i in x:\n",
    "        for j in range(i):\n",
    "            print((i+j)%2,end=' ')\n",
    "        print()    \n",
    "tria([1,2,3,4,5])        "
   ]
  },
  {
   "cell_type": "code",
   "execution_count": 15,
   "id": "a3c1c887",
   "metadata": {},
   "outputs": [
    {
     "name": "stdout",
     "output_type": "stream",
     "text": [
      "0 \n",
      "0 1 \n",
      "0 1 2 \n",
      "0 1 2 3 \n",
      "0 1 2 3 4 \n"
     ]
    }
   ],
   "source": [
    "def tria(x):\n",
    "    for i in x:\n",
    "        for j in range(i):\n",
    "            print(j,end=' ')\n",
    "        print()    \n",
    "tria([1,2,3,4,5])   "
   ]
  },
  {
   "cell_type": "code",
   "execution_count": 27,
   "id": "7fc80040",
   "metadata": {},
   "outputs": [
    {
     "name": "stdout",
     "output_type": "stream",
     "text": [
      "1 \n",
      "2 3 \n",
      "3 4 5 \n"
     ]
    }
   ],
   "source": [
    " def tria(x):\n",
    "    for i in x:\n",
    "        for j in range(i):\n",
    "            print((i+j),end=' ')\n",
    "        print()    \n",
    "tria([1,2,3])   "
   ]
  },
  {
   "cell_type": "code",
   "execution_count": null,
   "id": "02368fc4",
   "metadata": {},
   "outputs": [],
   "source": []
  }
 ],
 "metadata": {
  "kernelspec": {
   "display_name": "Python 3 (ipykernel)",
   "language": "python",
   "name": "python3"
  },
  "language_info": {
   "codemirror_mode": {
    "name": "ipython",
    "version": 3
   },
   "file_extension": ".py",
   "mimetype": "text/x-python",
   "name": "python",
   "nbconvert_exporter": "python",
   "pygments_lexer": "ipython3",
   "version": "3.9.7"
  }
 },
 "nbformat": 4,
 "nbformat_minor": 5
}
