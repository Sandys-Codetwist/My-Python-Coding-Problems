{
 "cells": [
  {
   "cell_type": "code",
   "execution_count": 1,
   "id": "e2564747",
   "metadata": {},
   "outputs": [
    {
     "name": "stdout",
     "output_type": "stream",
     "text": [
      "for loop by using underscore as a variable\n",
      "0\n",
      "1\n",
      "2\n",
      "3\n",
      "4\n",
      "while loop by using underscore as a variable\n",
      "4\n",
      "5\n",
      "6\n",
      "7\n",
      "8\n",
      "9\n",
      "other example: \n",
      "hi\n",
      "hello\n",
      "how are you?\n"
     ]
    }
   ],
   "source": [
    "# for loop\n",
    "print(\"for loop by using underscore as a variable\")\n",
    "for _ in range(5):\n",
    "    print(_)\n",
    "    \n",
    "print(\"while loop by using underscore as a variable\")\n",
    "    \n",
    "while(_<10):\n",
    "    print(_)\n",
    "    _+=1\n",
    "    \n",
    "print(\"other example: \")\n",
    "for _ in [\"hi\",\"hello\",\"how are you?\"]:\n",
    "    print(_)\n"
   ]
  },
  {
   "cell_type": "code",
   "execution_count": null,
   "id": "3853b6c1",
   "metadata": {},
   "outputs": [],
   "source": []
  }
 ],
 "metadata": {
  "kernelspec": {
   "display_name": "Python 3 (ipykernel)",
   "language": "python",
   "name": "python3"
  },
  "language_info": {
   "codemirror_mode": {
    "name": "ipython",
    "version": 3
   },
   "file_extension": ".py",
   "mimetype": "text/x-python",
   "name": "python",
   "nbconvert_exporter": "python",
   "pygments_lexer": "ipython3",
   "version": "3.9.7"
  }
 },
 "nbformat": 4,
 "nbformat_minor": 5
}
