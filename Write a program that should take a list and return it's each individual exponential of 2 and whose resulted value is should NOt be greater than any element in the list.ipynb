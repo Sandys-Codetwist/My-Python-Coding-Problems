{
 "cells": [
  {
   "cell_type": "code",
   "execution_count": 2,
   "id": "1aba2379",
   "metadata": {},
   "outputs": [
    {
     "data": {
      "text/plain": [
       "[2]"
      ]
     },
     "execution_count": 2,
     "metadata": {},
     "output_type": "execute_result"
    }
   ],
   "source": [
    "def exp_num(l):\n",
    "    l1=[2**i for i in l]\n",
    "    l2=[]\n",
    "    for i in l1:\n",
    "        if i<max(l):\n",
    "            l2.append(i)\n",
    "            return l2\n",
    "exp_num([1,2,3,4,5]) "
   ]
  },
  {
   "cell_type": "code",
   "execution_count": null,
   "id": "0c673ba9",
   "metadata": {},
   "outputs": [],
   "source": []
  }
 ],
 "metadata": {
  "kernelspec": {
   "display_name": "Python 3 (ipykernel)",
   "language": "python",
   "name": "python3"
  },
  "language_info": {
   "codemirror_mode": {
    "name": "ipython",
    "version": 3
   },
   "file_extension": ".py",
   "mimetype": "text/x-python",
   "name": "python",
   "nbconvert_exporter": "python",
   "pygments_lexer": "ipython3",
   "version": "3.9.7"
  }
 },
 "nbformat": 4,
 "nbformat_minor": 5
}
