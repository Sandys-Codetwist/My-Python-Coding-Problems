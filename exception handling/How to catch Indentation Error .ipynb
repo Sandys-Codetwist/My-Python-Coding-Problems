{
 "cells": [
  {
   "cell_type": "code",
   "execution_count": 10,
   "id": "563b0fe3",
   "metadata": {},
   "outputs": [],
   "source": [
    "try:\n",
    "a=10    \n",
    "if a<10:\n",
    "    print(\"Hello a\")\n",
    "except:\n",
    "    print(\"expected an indented bloc\")\n"
   ]
  },
  {
   "cell_type": "code",
   "execution_count": 11,
   "id": "120bddb3",
   "metadata": {},
   "outputs": [
    {
     "ename": "IndentationError",
     "evalue": "expected an indented block (Temp/ipykernel_5932/3890480843.py, line 2)",
     "output_type": "error",
     "traceback": [
      "\u001b[1;36m  File \u001b[1;32m\"C:\\Users\\saiga\\AppData\\Local\\Temp/ipykernel_5932/3890480843.py\"\u001b[1;36m, line \u001b[1;32m2\u001b[0m\n\u001b[1;33m    def f():\u001b[0m\n\u001b[1;37m    ^\u001b[0m\n\u001b[1;31mIndentationError\u001b[0m\u001b[1;31m:\u001b[0m expected an indented block\n"
     ]
    }
   ],
   "source": [
    "try:\n",
    "def f():\n",
    "z=['foo','bar']\n",
    "for i in z:\n",
    "if i == 'foo':\n",
    "    print(i)\n",
    "except IndentationError as e:\n",
    "print e"
   ]
  },
  {
   "cell_type": "code",
   "execution_count": null,
   "id": "c8f8342c",
   "metadata": {},
   "outputs": [],
   "source": []
  }
 ],
 "metadata": {
  "kernelspec": {
   "display_name": "Python 3 (ipykernel)",
   "language": "python",
   "name": "python3"
  },
  "language_info": {
   "codemirror_mode": {
    "name": "ipython",
    "version": 3
   },
   "file_extension": ".py",
   "mimetype": "text/x-python",
   "name": "python",
   "nbconvert_exporter": "python",
   "pygments_lexer": "ipython3",
   "version": "3.9.7"
  }
 },
 "nbformat": 4,
 "nbformat_minor": 5
}
