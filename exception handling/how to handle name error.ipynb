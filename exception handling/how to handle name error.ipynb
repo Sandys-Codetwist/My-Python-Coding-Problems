{
 "cells": [
  {
   "cell_type": "code",
   "execution_count": 4,
   "id": "e76159dc",
   "metadata": {},
   "outputs": [
    {
     "name": "stdout",
     "output_type": "stream",
     "text": [
      "enter a numbers\n",
      "Invalid input please input integer\n"
     ]
    }
   ],
   "source": [
    "try:\n",
    "    x=int(input('enter a number'))\n",
    "    y=int(input('enter a number'))\n",
    "    result=x*y\n",
    "    print(result)\n",
    "except:\n",
    "    print('Invalid input please input integer')\n",
    "    "
   ]
  },
  {
   "cell_type": "code",
   "execution_count": 7,
   "id": "c6a48fe6",
   "metadata": {},
   "outputs": [
    {
     "name": "stdout",
     "output_type": "stream",
     "text": [
      "NameError Occurred and Handled,invalid number is given\n"
     ]
    }
   ],
   "source": [
    "def fun(a):\n",
    "    if a<4:\n",
    "        b = a*2\n",
    "    print(b)\n",
    "     \n",
    "try:\n",
    "    fun(5)\n",
    "except NameError:\n",
    "    print(\"NameError Occurred and Handled,invalid number is given\")"
   ]
  },
  {
   "cell_type": "code",
   "execution_count": null,
   "id": "77ee46d5",
   "metadata": {},
   "outputs": [],
   "source": []
  }
 ],
 "metadata": {
  "kernelspec": {
   "display_name": "Python 3 (ipykernel)",
   "language": "python",
   "name": "python3"
  },
  "language_info": {
   "codemirror_mode": {
    "name": "ipython",
    "version": 3
   },
   "file_extension": ".py",
   "mimetype": "text/x-python",
   "name": "python",
   "nbconvert_exporter": "python",
   "pygments_lexer": "ipython3",
   "version": "3.9.7"
  }
 },
 "nbformat": 4,
 "nbformat_minor": 5
}
